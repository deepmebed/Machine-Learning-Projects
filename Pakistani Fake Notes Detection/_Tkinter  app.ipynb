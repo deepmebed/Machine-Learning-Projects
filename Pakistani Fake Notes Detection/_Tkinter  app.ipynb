{
 "cells": [
  {
   "cell_type": "code",
   "execution_count": 1,
   "id": "e2d8d816",
   "metadata": {},
   "outputs": [
    {
     "name": "stdout",
     "output_type": "stream",
     "text": [
      "WARNING:tensorflow:From C:\\Users\\Grace\\anaconda3\\envs\\deep\\lib\\site-packages\\keras\\src\\losses.py:2976: The name tf.losses.sparse_softmax_cross_entropy is deprecated. Please use tf.compat.v1.losses.sparse_softmax_cross_entropy instead.\n",
      "\n",
      "WARNING:tensorflow:From C:\\Users\\Grace\\anaconda3\\envs\\deep\\lib\\site-packages\\keras\\src\\backend.py:1398: The name tf.executing_eagerly_outside_functions is deprecated. Please use tf.compat.v1.executing_eagerly_outside_functions instead.\n",
      "\n",
      "WARNING:tensorflow:From C:\\Users\\Grace\\anaconda3\\envs\\deep\\lib\\site-packages\\keras\\src\\layers\\pooling\\max_pooling2d.py:161: The name tf.nn.max_pool is deprecated. Please use tf.nn.max_pool2d instead.\n",
      "\n"
     ]
    },
    {
     "name": "stderr",
     "output_type": "stream",
     "text": [
      "C:\\Users\\Grace\\AppData\\Local\\Temp\\ipykernel_20248\\2998597298.py:57: DeprecationWarning: ANTIALIAS is deprecated and will be removed in Pillow 10 (2023-07-01). Use LANCZOS or Resampling.LANCZOS instead.\n",
      "  background_image = background_image.resize((root.winfo_screenwidth(), root.winfo_screenheight()), Image.ANTIALIAS)\n"
     ]
    },
    {
     "name": "stdout",
     "output_type": "stream",
     "text": [
      "1/1 [==============================] - 0s 375ms/step\n"
     ]
    }
   ],
   "source": [
    "import tkinter as tk\n",
    "from tkinter import filedialog\n",
    "from PIL import Image, ImageTk\n",
    "import numpy as np\n",
    "from tensorflow.keras.applications.vgg16 import preprocess_input\n",
    "from tensorflow.keras.preprocessing import image\n",
    "from sklearn.ensemble import RandomForestClassifier\n",
    "import joblib\n",
    "\n",
    "# Load the trained Random Forest model\n",
    "rf_model = joblib.load('rf_model.pkl')\n",
    "\n",
    "# Load VGG16 model pre-trained on ImageNet and exclude top layers\n",
    "from tensorflow.keras.applications import VGG16\n",
    "vgg16_model = VGG16(weights='imagenet', include_top=False, input_shape=(64, 64, 3))\n",
    "\n",
    "# Function to extract features\n",
    "def extract_features(img_path):\n",
    "    img = image.load_img(img_path, target_size=(64, 64))\n",
    "    x = image.img_to_array(img)\n",
    "    x = np.expand_dims(x, axis=0)\n",
    "    x = preprocess_input(x)\n",
    "    features = vgg16_model.predict(x)\n",
    "    features = features.reshape(features.shape[0], -1)  # Flatten the features\n",
    "    return features\n",
    "\n",
    "# Function to predict and display the uploaded image\n",
    "def predict_and_display_image():\n",
    "    # Open file dialog for image selection\n",
    "    file_path = filedialog.askopenfilename()\n",
    "    if file_path:\n",
    "        # Display the uploaded image\n",
    "        img = Image.open(file_path)\n",
    "        img = img.resize((300, 300))  # Resize image for display\n",
    "        img = ImageTk.PhotoImage(img)\n",
    "        img_label.config(image=img)\n",
    "        img_label.image = img\n",
    "\n",
    "        # Extract features from the uploaded image\n",
    "        img_features = extract_features(file_path)\n",
    "\n",
    "        # Predict using the Random Forest model\n",
    "        prediction = rf_model.predict(img_features)\n",
    "\n",
    "        # Display the prediction result\n",
    "        if prediction[0] == 0:\n",
    "            result_label.config(text=\"The uploaded image is predicted to be a real banknote.\", fg=\"green\")\n",
    "        else:\n",
    "            result_label.config(text=\"The uploaded image is predicted to be a fake banknote.\", fg=\"red\")\n",
    "\n",
    "# Create the main GUI window\n",
    "root = tk.Tk()\n",
    "root.title(\"Banknote Image Classifier with Random Forest\")\n",
    "\n",
    "# Set background image\n",
    "background_image = Image.open(\"Downloads/currency-notes.jpg\")\n",
    "background_image = background_image.resize((root.winfo_screenwidth(), root.winfo_screenheight()), Image.ANTIALIAS)\n",
    "background_photo = ImageTk.PhotoImage(background_image)\n",
    "background_label = tk.Label(root, image=background_photo)\n",
    "background_label.image = background_photo\n",
    "background_label.place(x=0, y=0, relwidth=1, relheight=1)\n",
    "\n",
    "# Create and place the title label with increased text size\n",
    "title_label_line1 = tk.Label(root, text=\"FIKFOK Fakify\", fg=\"green\", font=(\"Helvetica\", 24))  # Increased font size to 24\n",
    "title_label_line1.pack()\n",
    "\n",
    "title_label_line2 = tk.Label(root, text=\"THE 1st Pakistani Fake Notes Detection App\", font=(\"Helvetica\", 16))  # Normal font size\n",
    "title_label_line2.pack()\n",
    "\n",
    "# Create and place the upload button\n",
    "upload_button = tk.Button(root, text=\"Upload Image\", command=predict_and_display_image)\n",
    "upload_button.pack(pady=20)\n",
    "\n",
    "# Create a label for displaying the uploaded image\n",
    "img_label = tk.Label(root)\n",
    "img_label.pack(pady=10)\n",
    "\n",
    "# Create a label for displaying the prediction result\n",
    "result_label = tk.Label(root, text=\"\")\n",
    "result_label.pack(pady=10)\n",
    "\n",
    "# Run the GUI main loop\n",
    "root.mainloop()\n"
   ]
  },
  {
   "cell_type": "code",
   "execution_count": null,
   "id": "28bbd9bd",
   "metadata": {},
   "outputs": [],
   "source": []
  }
 ],
 "metadata": {
  "kernelspec": {
   "display_name": "Python 3 (ipykernel)",
   "language": "python",
   "name": "python3"
  },
  "language_info": {
   "codemirror_mode": {
    "name": "ipython",
    "version": 3
   },
   "file_extension": ".py",
   "mimetype": "text/x-python",
   "name": "python",
   "nbconvert_exporter": "python",
   "pygments_lexer": "ipython3",
   "version": "3.10.13"
  }
 },
 "nbformat": 4,
 "nbformat_minor": 5
}
